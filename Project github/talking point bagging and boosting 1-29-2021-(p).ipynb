{
 "cells": [
  {
   "cell_type": "code",
   "execution_count": 1,
   "metadata": {},
   "outputs": [],
   "source": [
    "import numpy as np\n",
    "import pandas as pd\n",
    "from matplotlib import pyplot as plt\n",
    "import seaborn as sns\n",
    "import warnings\n",
    "warnings.filterwarnings('ignore')\n",
    "from scipy.stats import zscore"
   ]
  },
  {
   "cell_type": "code",
   "execution_count": 2,
   "metadata": {},
   "outputs": [],
   "source": [
    "import os"
   ]
  },
  {
   "cell_type": "code",
   "execution_count": 3,
   "metadata": {},
   "outputs": [
    {
     "data": {
      "text/plain": [
       "<function nt.getcwd()>"
      ]
     },
     "execution_count": 3,
     "metadata": {},
     "output_type": "execute_result"
    }
   ],
   "source": [
    "os.getcwd"
   ]
  },
  {
   "cell_type": "code",
   "execution_count": 4,
   "metadata": {},
   "outputs": [
    {
     "data": {
      "text/plain": [
       "['.biojs_templates',\n",
       " '.conda',\n",
       " '.condarc',\n",
       " '.config',\n",
       " '.ipynb_checkpoints',\n",
       " '.ipython',\n",
       " '.jalview_properties',\n",
       " '.jswingreader',\n",
       " '.jupyter',\n",
       " '.matplotlib',\n",
       " '.oracle_jre_usage',\n",
       " '.vamsas',\n",
       " '3D Objects',\n",
       " 'AirQuality from UCI..ipynb',\n",
       " 'anaconda3',\n",
       " 'AppData',\n",
       " 'Application Data',\n",
       " 'Binomial distribution.ipynb',\n",
       " 'car prediction models replica.ipynb',\n",
       " 'car prediction models.ipynb',\n",
       " 'Charts.ipynb',\n",
       " 'Contacts',\n",
       " 'Cookies',\n",
       " 'Creative Cloud Files',\n",
       " 'Data visualization practice line graph, bar chart, title, label, size.ipynb',\n",
       " 'Desktop',\n",
       " 'Distributions.ipynb',\n",
       " 'Documents',\n",
       " 'Downloads',\n",
       " 'EDA.ipynb',\n",
       " 'Favorites',\n",
       " 'first draft Talking_point csv Bagging and boosting .ipynb',\n",
       " 'General practice of coding.ipynb',\n",
       " 'hahahahaha.txt',\n",
       " 'IntelGraphicsProfiles',\n",
       " 'KNN algorithm.ipynb',\n",
       " 'KNN and NB  first draft.ipynb',\n",
       " 'Linear Regression Project submit 2 Edwin.ipynb',\n",
       " 'Linear Regression.ipynb',\n",
       " 'Links',\n",
       " 'Local Settings',\n",
       " 'Logistic Regression Assignment 2021. (Final).ipynb',\n",
       " 'Logistic Regression Assignment Final copy.ipynb',\n",
       " 'logistic regression practice .ipynb',\n",
       " 'Logistic Regression Project 12-26-2020 submit to Edwin.ipynb',\n",
       " 'logistic regression.ipynb',\n",
       " 'MicrosoftEdgeBackups',\n",
       " 'Monthly expenses.ipynb',\n",
       " 'Music',\n",
       " 'My Documents',\n",
       " 'myfile.txt',\n",
       " 'mymodule.py',\n",
       " 'my_new_file.txt',\n",
       " 'NetHood',\n",
       " 'NTUSER.DAT',\n",
       " 'ntuser.dat.LOG1',\n",
       " 'ntuser.dat.LOG2',\n",
       " 'NTUSER.DAT{f354be17-09d6-11eb-a3e5-8c11817032cf}.TM.blf',\n",
       " 'NTUSER.DAT{f354be17-09d6-11eb-a3e5-8c11817032cf}.TMContainer00000000000000000001.regtrans-ms',\n",
       " 'NTUSER.DAT{f354be17-09d6-11eb-a3e5-8c11817032cf}.TMContainer00000000000000000002.regtrans-ms',\n",
       " 'ntuser.ini',\n",
       " 'OneDrive',\n",
       " 'Pandas data visualization practice.ipynb',\n",
       " 'Pictures',\n",
       " 'Poisson Distribution.ipynb',\n",
       " 'practice pandas.ipynb',\n",
       " 'PrintHood',\n",
       " 'Probability.ipynb',\n",
       " 'Recent',\n",
       " 'Roaming',\n",
       " 'Saved Games',\n",
       " 'scatter plot.ipynb',\n",
       " 'seaborn-data',\n",
       " 'Searches',\n",
       " 'Second draft talking point bagging and boosting.ipynb',\n",
       " 'SendTo',\n",
       " 'Start Menu',\n",
       " 'Statistics descriptive analytics using pandas.ipynb',\n",
       " 'Templates',\n",
       " 'Tracing',\n",
       " 'train.csv.ipynb',\n",
       " 'Udemy 2020 complete python bootcamp .ipynb',\n",
       " 'Udemy objects and data structures assessment test.ipynb',\n",
       " 'Udemy Statements assessment test..ipynb',\n",
       " 'Untitled.ipynb',\n",
       " 'Untitled1.ipynb',\n",
       " 'Untitled2.ipynb',\n",
       " 'Untitled3.ipynb',\n",
       " 'Videos',\n",
       " '__pycache__']"
      ]
     },
     "execution_count": 4,
     "metadata": {},
     "output_type": "execute_result"
    }
   ],
   "source": [
    "os.listdir()"
   ]
  },
  {
   "cell_type": "code",
   "execution_count": 5,
   "metadata": {},
   "outputs": [],
   "source": [
    "os.chdir('C:\\\\Users\\\\Hasan\\\\Downloads')"
   ]
  },
  {
   "cell_type": "markdown",
   "metadata": {},
   "source": [
    "1)"
   ]
  },
  {
   "cell_type": "code",
   "execution_count": 6,
   "metadata": {},
   "outputs": [],
   "source": [
    "data = pd.read_csv('C:\\\\Users\\\\Hasan\\\\Downloads\\\\talking_data.txt')"
   ]
  },
  {
   "cell_type": "code",
   "execution_count": 7,
   "metadata": {},
   "outputs": [
    {
     "data": {
      "text/html": [
       "<div>\n",
       "<style scoped>\n",
       "    .dataframe tbody tr th:only-of-type {\n",
       "        vertical-align: middle;\n",
       "    }\n",
       "\n",
       "    .dataframe tbody tr th {\n",
       "        vertical-align: top;\n",
       "    }\n",
       "\n",
       "    .dataframe thead th {\n",
       "        text-align: right;\n",
       "    }\n",
       "</style>\n",
       "<table border=\"1\" class=\"dataframe\">\n",
       "  <thead>\n",
       "    <tr style=\"text-align: right;\">\n",
       "      <th></th>\n",
       "      <th>ip</th>\n",
       "      <th>app</th>\n",
       "      <th>device</th>\n",
       "      <th>os</th>\n",
       "      <th>channel</th>\n",
       "      <th>click_time</th>\n",
       "      <th>attributed_time</th>\n",
       "      <th>is_attributed</th>\n",
       "    </tr>\n",
       "  </thead>\n",
       "  <tbody>\n",
       "    <tr>\n",
       "      <th>0</th>\n",
       "      <td>87540</td>\n",
       "      <td>12</td>\n",
       "      <td>1</td>\n",
       "      <td>13</td>\n",
       "      <td>497</td>\n",
       "      <td>2017-11-07 09:30:38</td>\n",
       "      <td>NaN</td>\n",
       "      <td>0</td>\n",
       "    </tr>\n",
       "    <tr>\n",
       "      <th>1</th>\n",
       "      <td>105560</td>\n",
       "      <td>25</td>\n",
       "      <td>1</td>\n",
       "      <td>17</td>\n",
       "      <td>259</td>\n",
       "      <td>2017-11-07 13:40:27</td>\n",
       "      <td>NaN</td>\n",
       "      <td>0</td>\n",
       "    </tr>\n",
       "    <tr>\n",
       "      <th>2</th>\n",
       "      <td>101424</td>\n",
       "      <td>12</td>\n",
       "      <td>1</td>\n",
       "      <td>19</td>\n",
       "      <td>212</td>\n",
       "      <td>2017-11-07 18:05:24</td>\n",
       "      <td>NaN</td>\n",
       "      <td>0</td>\n",
       "    </tr>\n",
       "    <tr>\n",
       "      <th>3</th>\n",
       "      <td>94584</td>\n",
       "      <td>13</td>\n",
       "      <td>1</td>\n",
       "      <td>13</td>\n",
       "      <td>477</td>\n",
       "      <td>2017-11-07 04:58:08</td>\n",
       "      <td>NaN</td>\n",
       "      <td>0</td>\n",
       "    </tr>\n",
       "    <tr>\n",
       "      <th>4</th>\n",
       "      <td>68413</td>\n",
       "      <td>12</td>\n",
       "      <td>1</td>\n",
       "      <td>1</td>\n",
       "      <td>178</td>\n",
       "      <td>2017-11-09 09:00:09</td>\n",
       "      <td>NaN</td>\n",
       "      <td>0</td>\n",
       "    </tr>\n",
       "  </tbody>\n",
       "</table>\n",
       "</div>"
      ],
      "text/plain": [
       "       ip  app  device  os  channel           click_time attributed_time  \\\n",
       "0   87540   12       1  13      497  2017-11-07 09:30:38             NaN   \n",
       "1  105560   25       1  17      259  2017-11-07 13:40:27             NaN   \n",
       "2  101424   12       1  19      212  2017-11-07 18:05:24             NaN   \n",
       "3   94584   13       1  13      477  2017-11-07 04:58:08             NaN   \n",
       "4   68413   12       1   1      178  2017-11-09 09:00:09             NaN   \n",
       "\n",
       "   is_attributed  \n",
       "0              0  \n",
       "1              0  \n",
       "2              0  \n",
       "3              0  \n",
       "4              0  "
      ]
     },
     "execution_count": 7,
     "metadata": {},
     "output_type": "execute_result"
    }
   ],
   "source": [
    "data.head()"
   ]
  },
  {
   "cell_type": "code",
   "execution_count": 8,
   "metadata": {},
   "outputs": [
    {
     "name": "stdout",
     "output_type": "stream",
     "text": [
      "<class 'pandas.core.frame.DataFrame'>\n",
      "RangeIndex: 100000 entries, 0 to 99999\n",
      "Data columns (total 8 columns):\n",
      " #   Column           Non-Null Count   Dtype \n",
      "---  ------           --------------   ----- \n",
      " 0   ip               100000 non-null  int64 \n",
      " 1   app              100000 non-null  int64 \n",
      " 2   device           100000 non-null  int64 \n",
      " 3   os               100000 non-null  int64 \n",
      " 4   channel          100000 non-null  int64 \n",
      " 5   click_time       100000 non-null  object\n",
      " 6   attributed_time  227 non-null     object\n",
      " 7   is_attributed    100000 non-null  int64 \n",
      "dtypes: int64(6), object(2)\n",
      "memory usage: 6.1+ MB\n"
     ]
    }
   ],
   "source": [
    "data.info()"
   ]
  },
  {
   "cell_type": "code",
   "execution_count": 9,
   "metadata": {},
   "outputs": [
    {
     "data": {
      "text/plain": [
       "Index(['ip', 'app', 'device', 'os', 'channel', 'click_time', 'attributed_time',\n",
       "       'is_attributed'],\n",
       "      dtype='object')"
      ]
     },
     "execution_count": 9,
     "metadata": {},
     "output_type": "execute_result"
    }
   ],
   "source": [
    "data.columns"
   ]
  },
  {
   "cell_type": "code",
   "execution_count": 10,
   "metadata": {},
   "outputs": [
    {
     "data": {
      "text/plain": [
       "(100000, 8)"
      ]
     },
     "execution_count": 10,
     "metadata": {},
     "output_type": "execute_result"
    }
   ],
   "source": [
    "data.shape # 100000 rows and 8 columns"
   ]
  },
  {
   "cell_type": "code",
   "execution_count": 11,
   "metadata": {},
   "outputs": [
    {
     "data": {
      "text/plain": [
       "True"
      ]
     },
     "execution_count": 11,
     "metadata": {},
     "output_type": "execute_result"
    }
   ],
   "source": [
    "data.isnull().values.any() # this means there are missing values"
   ]
  },
  {
   "cell_type": "markdown",
   "metadata": {},
   "source": [
    "2)"
   ]
  },
  {
   "cell_type": "code",
   "execution_count": 12,
   "metadata": {},
   "outputs": [
    {
     "name": "stdout",
     "output_type": "stream",
     "text": [
      "This is the unique stuff of  ip [ 87540 105560 101424 ... 153487  34029 185961]\n",
      "This is the unique stuff of  app [ 12  25  13   3   1   9   2   6  20  14  64   7  15  18  11   8  23  21\n",
      "  56  28  36  22  26  17  27  10  60  58  19  32  24   4  53 125 204   5\n",
      " 202  70  47  29  55 103  35  83 208 146 161  46  62  65 110  42 150 266\n",
      " 151 148  72 310  93  94  71  43  39 170  37  68  54 107 398 160  30 183\n",
      " 315  45 121  38  82 134  33 233 100  44 109  59  74  61 104  66  67 273\n",
      " 192  50 118 372  48 232 165  91 123  88 538  49  16 105 536 216 425 117\n",
      " 551  99  86 101 394  78  95 181  76  34 124 548 108  85 145  79  97  75\n",
      "  52 215  84  96  81 139 267  80 137 119 474 158 293 122 112 149 363 271\n",
      "  31 171  87 168 176 347 163 190 486 133 302 268 407 116  92 115 261]\n",
      "This is the unique stuff of  device [   1    2 3866    0 3032 3543    7   40  385   56 3282  103   16   21\n",
      "   30    4   59   33  211   20    5  883  154  607  957   37  102  124\n",
      " 2429   50  116   18  579  188   74  291   36 1482  347  160   25  486\n",
      "  516   97  321  196  581   53  828  114  109    6  414  351   60  106\n",
      " 3867 1422  210  374   76  182  129   79  362  100 1728 2120 1318  386\n",
      "  558  180  167  202   17  203 1162  657   78    9 3545 1839  420 2980\n",
      "  552   67 1080   11 3331  329  596  163  549   58  268  928  220   49\n",
      " 1042  241]\n",
      "This is the unique stuff of  os [ 13  17  19   1  25  22  20   2  90  10  18  40  15  27  23  53  49  37\n",
      "  26  41   8  11   9  14  28  47   3   6  97   4  31  16  30  32  12  46\n",
      " 866  65  55  29  42  39  34 607  79  35  44   7   0 748  36  99  43  21\n",
      "  64  58  50  24  66  57 109  70  98 836  56 108  76 137  48   5  38  63\n",
      " 100  62  96  88  73  74 138  45  84  52  61 172  59  81 102  77  78  60\n",
      " 153  80 118  69  85 151  68 178 113 192 135 198  83 112  67 132  71 142\n",
      " 117 111 168 106 110 129 127 107 152 155 199 133 116  92 196  87 174 207\n",
      " 184 114 185 193]\n",
      "This is the unique stuff of  channel [497 259 212 477 178 115 135 442 364 489 205 125 280 349 265 459 215 101\n",
      " 122 379 386 124 140 107 245 111 134 401 137 145 278 409 153 466 128 481\n",
      " 334 424 406 373 377 435 452 445 439 242 315 237   3 480 116 121 400 376\n",
      " 469 130 371 467 113 211 496 219 478 463 105  21 347 234 236 328 173 244\n",
      " 232 266 258 262 213 127 319 340 412  19 243 360 417 317 160 110 282  30\n",
      " 421 208 402 416 325 326 224 391 448 484  13 118 126 343 253 150 487 430\n",
      " 182 453 449 268  17 274 123  22 456 320 120 330 277 479 420  18 203 486\n",
      " 446 450 272 333 210 361 490 483 488 171 138 322 457 404 411   5 332 410\n",
      " 356 419 460  24 353 498 174 451 341 108 114 474  15 455 261 465   4]\n",
      "This is the unique stuff of  click_time ['2017-11-07 09:30:38' '2017-11-07 13:40:27' '2017-11-07 18:05:24' ...\n",
      " '2017-11-09 04:21:28' '2017-11-07 09:33:14' '2017-11-09 13:25:41']\n",
      "This is the unique stuff of  attributed_time [nan '2017-11-08 02:22:38' '2017-11-08 06:10:37' '2017-11-07 11:59:05'\n",
      " '2017-11-09 11:52:01' '2017-11-08 01:55:02' '2017-11-07 13:10:30'\n",
      " '2017-11-08 22:39:52' '2017-11-09 08:47:55' '2017-11-08 04:37:46'\n",
      " '2017-11-08 09:46:42' '2017-11-09 09:30:19' '2017-11-07 20:21:42'\n",
      " '2017-11-07 06:49:01' '2017-11-08 08:56:58' '2017-11-08 00:16:14'\n",
      " '2017-11-07 04:00:09' '2017-11-07 07:56:49' '2017-11-09 15:17:13'\n",
      " '2017-11-08 14:35:39' '2017-11-09 07:38:10' '2017-11-07 23:12:03'\n",
      " '2017-11-09 08:52:49' '2017-11-07 07:55:54' '2017-11-07 03:38:32'\n",
      " '2017-11-08 10:37:23' '2017-11-09 09:44:00' '2017-11-08 00:48:35'\n",
      " '2017-11-07 01:19:12' '2017-11-07 13:22:10' '2017-11-08 14:25:07'\n",
      " '2017-11-09 07:11:19' '2017-11-07 11:18:09' '2017-11-07 08:32:53'\n",
      " '2017-11-07 23:07:41' '2017-11-07 01:37:32' '2017-11-07 10:14:30'\n",
      " '2017-11-07 13:15:15' '2017-11-08 12:18:44' '2017-11-07 06:29:27'\n",
      " '2017-11-09 04:43:30' '2017-11-07 07:31:15' '2017-11-08 06:12:02'\n",
      " '2017-11-08 11:18:39' '2017-11-07 14:17:52' '2017-11-09 00:44:51'\n",
      " '2017-11-06 17:19:04' '2017-11-08 12:51:58' '2017-11-08 13:55:49'\n",
      " '2017-11-08 01:07:33' '2017-11-09 05:02:33' '2017-11-07 03:05:13'\n",
      " '2017-11-08 09:06:37' '2017-11-08 01:23:34' '2017-11-07 04:09:58'\n",
      " '2017-11-09 06:05:22' '2017-11-07 00:39:43' '2017-11-08 08:03:26'\n",
      " '2017-11-08 06:23:29' '2017-11-07 03:01:55' '2017-11-07 05:30:55'\n",
      " '2017-11-07 13:01:41' '2017-11-07 01:35:27' '2017-11-09 03:48:19'\n",
      " '2017-11-07 14:35:55' '2017-11-08 07:15:56' '2017-11-09 11:42:06'\n",
      " '2017-11-09 10:13:19' '2017-11-09 12:03:50' '2017-11-08 02:38:22'\n",
      " '2017-11-07 03:33:02' '2017-11-09 14:53:22' '2017-11-07 15:48:34'\n",
      " '2017-11-08 05:11:04' '2017-11-09 05:27:49' '2017-11-09 02:12:43'\n",
      " '2017-11-08 03:16:13' '2017-11-09 15:28:15' '2017-11-09 13:03:34'\n",
      " '2017-11-08 03:35:42' '2017-11-07 08:08:09' '2017-11-09 10:47:54'\n",
      " '2017-11-09 11:50:42' '2017-11-08 15:26:07' '2017-11-07 12:52:45'\n",
      " '2017-11-07 00:15:11' '2017-11-07 11:37:53' '2017-11-09 05:45:04'\n",
      " '2017-11-09 10:18:07' '2017-11-07 05:57:39' '2017-11-08 01:17:35'\n",
      " '2017-11-09 12:08:01' '2017-11-08 04:18:08' '2017-11-09 02:13:48'\n",
      " '2017-11-08 11:17:24' '2017-11-09 13:04:59' '2017-11-08 03:35:22'\n",
      " '2017-11-09 08:56:28' '2017-11-07 13:40:35' '2017-11-09 07:28:37'\n",
      " '2017-11-09 15:05:43' '2017-11-07 10:43:47' '2017-11-06 21:30:47'\n",
      " '2017-11-09 09:03:22' '2017-11-08 10:47:46' '2017-11-08 15:56:03'\n",
      " '2017-11-08 15:32:29' '2017-11-08 14:00:05' '2017-11-06 23:58:31'\n",
      " '2017-11-07 11:41:50' '2017-11-08 00:59:05' '2017-11-07 11:22:32'\n",
      " '2017-11-08 14:17:26' '2017-11-07 01:35:31' '2017-11-08 01:05:50'\n",
      " '2017-11-08 23:59:05' '2017-11-09 12:49:58' '2017-11-09 09:52:13'\n",
      " '2017-11-08 14:02:51' '2017-11-09 01:04:00' '2017-11-08 09:09:41'\n",
      " '2017-11-07 01:34:22' '2017-11-08 01:46:26' '2017-11-09 10:38:02'\n",
      " '2017-11-08 12:47:19' '2017-11-08 12:23:06' '2017-11-07 15:36:50'\n",
      " '2017-11-07 14:28:28' '2017-11-07 08:08:00' '2017-11-08 14:55:24'\n",
      " '2017-11-07 07:57:47' '2017-11-08 06:23:40' '2017-11-09 09:18:23'\n",
      " '2017-11-07 12:06:46' '2017-11-09 09:42:54' '2017-11-08 08:19:39'\n",
      " '2017-11-09 06:38:34' '2017-11-07 07:26:43' '2017-11-08 05:48:16'\n",
      " '2017-11-08 05:04:58' '2017-11-09 14:30:54' '2017-11-07 08:20:01'\n",
      " '2017-11-08 10:29:01' '2017-11-08 13:49:55' '2017-11-09 01:13:01'\n",
      " '2017-11-08 04:35:54' '2017-11-08 06:19:51' '2017-11-09 08:57:08'\n",
      " '2017-11-08 06:22:10' '2017-11-07 14:33:31' '2017-11-07 14:55:56'\n",
      " '2017-11-09 03:52:48' '2017-11-08 14:40:50' '2017-11-07 02:54:59'\n",
      " '2017-11-07 13:46:28' '2017-11-07 23:11:40' '2017-11-07 13:17:15'\n",
      " '2017-11-09 12:40:10' '2017-11-07 07:52:55' '2017-11-09 10:57:44'\n",
      " '2017-11-09 08:59:35' '2017-11-09 12:31:04' '2017-11-07 04:33:40'\n",
      " '2017-11-07 09:07:51' '2017-11-07 08:22:08' '2017-11-09 00:18:24'\n",
      " '2017-11-08 05:03:30' '2017-11-08 13:08:33' '2017-11-07 08:36:30'\n",
      " '2017-11-07 11:10:53' '2017-11-08 06:43:39' '2017-11-09 14:22:16'\n",
      " '2017-11-09 04:21:34' '2017-11-08 01:21:48' '2017-11-07 01:50:04'\n",
      " '2017-11-08 06:04:27' '2017-11-08 08:57:28' '2017-11-09 05:28:52'\n",
      " '2017-11-07 05:19:36' '2017-11-07 03:18:39' '2017-11-07 02:28:42'\n",
      " '2017-11-08 10:01:21' '2017-11-07 07:12:58' '2017-11-08 10:39:19'\n",
      " '2017-11-08 14:22:43' '2017-11-08 15:42:47' '2017-11-07 11:13:21'\n",
      " '2017-11-08 00:01:03' '2017-11-08 13:14:18' '2017-11-08 03:40:54'\n",
      " '2017-11-07 07:35:47' '2017-11-07 09:03:35' '2017-11-08 11:38:39'\n",
      " '2017-11-08 04:38:38' '2017-11-07 05:34:58' '2017-11-09 07:21:55'\n",
      " '2017-11-07 07:47:54' '2017-11-08 14:28:21' '2017-11-08 21:06:07'\n",
      " '2017-11-08 23:45:22' '2017-11-09 06:45:06' '2017-11-07 13:00:22'\n",
      " '2017-11-06 23:16:28' '2017-11-08 14:30:55' '2017-11-09 08:46:04'\n",
      " '2017-11-07 07:05:11' '2017-11-07 04:30:44' '2017-11-07 08:49:54'\n",
      " '2017-11-09 08:34:40' '2017-11-08 14:09:52' '2017-11-09 13:32:51'\n",
      " '2017-11-07 15:12:59' '2017-11-08 23:53:53' '2017-11-08 07:03:53'\n",
      " '2017-11-08 11:25:09' '2017-11-09 15:15:34' '2017-11-08 10:15:57'\n",
      " '2017-11-09 11:49:13' '2017-11-09 08:07:09' '2017-11-07 03:17:23'\n",
      " '2017-11-08 12:07:07' '2017-11-09 00:21:23' '2017-11-08 06:21:17'\n",
      " '2017-11-09 09:24:31' '2017-11-09 11:20:15' '2017-11-08 14:58:38'\n",
      " '2017-11-08 15:37:58' '2017-11-08 15:09:40']\n",
      "This is the unique stuff of  is_attributed [0 1]\n"
     ]
    }
   ],
   "source": [
    "columns = ['ip', 'app', 'device', 'os', 'channel', 'click_time', 'attributed_time','is_attributed']\n",
    "for col in columns:\n",
    "    unique = data[col].unique()\n",
    "    print(\"This is the unique stuff of \",col,unique)\n",
    "    "
   ]
  },
  {
   "cell_type": "markdown",
   "metadata": {},
   "source": [
    "3)"
   ]
  },
  {
   "cell_type": "code",
   "execution_count": 13,
   "metadata": {},
   "outputs": [
    {
     "data": {
      "text/plain": [
       "3     18279\n",
       "12    13198\n",
       "2     11737\n",
       "9      8992\n",
       "15     8595\n",
       "18     8315\n",
       "14     5359\n",
       "1      3135\n",
       "13     2422\n",
       "8      2004\n",
       "Name: app, dtype: int64"
      ]
     },
     "execution_count": 13,
     "metadata": {},
     "output_type": "execute_result"
    }
   ],
   "source": [
    "app_unique = data['app'].value_counts()\n",
    "filtered_unique = app_unique[app_unique>2000]\n",
    "filtered_unique"
   ]
  },
  {
   "cell_type": "code",
   "execution_count": 14,
   "metadata": {},
   "outputs": [
    {
     "name": "stdout",
     "output_type": "stream",
     "text": [
      "Theses are the ids to save [3, 12, 2, 9, 15, 18, 14, 1, 13, 8]\n",
      "The app ids which are less than 2k in the data [21, 11, 26, 23, 6, 64, 7, 20, 25, 28, 24, 27, 19, 10, 22, 17, 29, 32, 5, 151, 36, 150, 4, 47, 56, 35, 55, 58, 94, 37, 45, 93, 62, 183, 82, 83, 60, 107, 65, 160, 72, 39, 38, 46, 110, 208, 44, 33, 103, 68, 43, 109, 66, 232, 170, 125, 59, 74, 76, 84, 202, 50, 117, 95, 67, 88, 119, 101, 215, 134, 86, 315, 75, 16, 61, 273, 146, 310, 121, 34, 42, 181, 53, 52, 108, 48, 81, 363, 139, 394, 176, 122, 49, 80, 79, 54, 425, 71, 104, 161, 266, 30, 158, 137, 118, 87, 204, 165, 149, 85, 70, 148, 261, 267, 192, 133, 190, 268, 171, 293, 486, 551, 168, 105, 233, 302, 78, 112, 115, 116, 372, 123, 124, 548, 100, 163, 99, 97, 96, 31, 347, 91, 538, 474, 536, 216, 407, 145, 271, 398, 92]\n"
     ]
    }
   ],
   "source": [
    "\n",
    "app_unique = data['app'].value_counts() # all the values\n",
    "filtered_app=app_unique[app_unique<2000]\n",
    "filtered_app_required = app_unique[app_unique>2000]\n",
    "app_id_to_save = filtered_app_required.index.tolist()\n",
    "print(\"Theses are the ids to save\",app_id_to_save)  # everything less than 2k,     #df.loc[df[column]>2] # with a dataframe use the loc, with a series u dont have to put a loc.\n",
    "app_id_remove = filtered_app.index.tolist() # To save just the app id value in an array for afor loop\n",
    "print(\"The app ids which are less than 2k in the data\",app_id_remove)"
   ]
  },
  {
   "cell_type": "code",
   "execution_count": 15,
   "metadata": {},
   "outputs": [],
   "source": [
    "booleans = []\n",
    "for length in data.ip:\n",
    "    if length >=2000:\n",
    "        booleans.append(True)\n",
    "    else:\n",
    "        booleans.append(False)"
   ]
  },
  {
   "cell_type": "code",
   "execution_count": 16,
   "metadata": {},
   "outputs": [
    {
     "data": {
      "text/plain": [
       "[True, True, True, True, True]"
      ]
     },
     "execution_count": 16,
     "metadata": {},
     "output_type": "execute_result"
    }
   ],
   "source": [
    "booleans[0:5]"
   ]
  },
  {
   "cell_type": "code",
   "execution_count": 17,
   "metadata": {},
   "outputs": [
    {
     "data": {
      "text/plain": [
       "100000"
      ]
     },
     "execution_count": 17,
     "metadata": {},
     "output_type": "execute_result"
    }
   ],
   "source": [
    "len(booleans)"
   ]
  },
  {
   "cell_type": "code",
   "execution_count": 18,
   "metadata": {},
   "outputs": [],
   "source": [
    "greater_than_two_thousand = pd.Series(booleans)"
   ]
  },
  {
   "cell_type": "code",
   "execution_count": 19,
   "metadata": {},
   "outputs": [
    {
     "data": {
      "text/plain": [
       "0    True\n",
       "1    True\n",
       "2    True\n",
       "3    True\n",
       "4    True\n",
       "dtype: bool"
      ]
     },
     "execution_count": 19,
     "metadata": {},
     "output_type": "execute_result"
    }
   ],
   "source": [
    "greater_than_two_thousand.head()"
   ]
  },
  {
   "cell_type": "code",
   "execution_count": 20,
   "metadata": {},
   "outputs": [
    {
     "data": {
      "text/html": [
       "<div>\n",
       "<style scoped>\n",
       "    .dataframe tbody tr th:only-of-type {\n",
       "        vertical-align: middle;\n",
       "    }\n",
       "\n",
       "    .dataframe tbody tr th {\n",
       "        vertical-align: top;\n",
       "    }\n",
       "\n",
       "    .dataframe thead th {\n",
       "        text-align: right;\n",
       "    }\n",
       "</style>\n",
       "<table border=\"1\" class=\"dataframe\">\n",
       "  <thead>\n",
       "    <tr style=\"text-align: right;\">\n",
       "      <th></th>\n",
       "      <th>ip</th>\n",
       "      <th>app</th>\n",
       "      <th>device</th>\n",
       "      <th>os</th>\n",
       "      <th>channel</th>\n",
       "      <th>click_time</th>\n",
       "      <th>attributed_time</th>\n",
       "      <th>is_attributed</th>\n",
       "    </tr>\n",
       "  </thead>\n",
       "  <tbody>\n",
       "    <tr>\n",
       "      <th>0</th>\n",
       "      <td>87540</td>\n",
       "      <td>12</td>\n",
       "      <td>1</td>\n",
       "      <td>13</td>\n",
       "      <td>497</td>\n",
       "      <td>2017-11-07 09:30:38</td>\n",
       "      <td>NaN</td>\n",
       "      <td>0</td>\n",
       "    </tr>\n",
       "    <tr>\n",
       "      <th>1</th>\n",
       "      <td>105560</td>\n",
       "      <td>25</td>\n",
       "      <td>1</td>\n",
       "      <td>17</td>\n",
       "      <td>259</td>\n",
       "      <td>2017-11-07 13:40:27</td>\n",
       "      <td>NaN</td>\n",
       "      <td>0</td>\n",
       "    </tr>\n",
       "    <tr>\n",
       "      <th>2</th>\n",
       "      <td>101424</td>\n",
       "      <td>12</td>\n",
       "      <td>1</td>\n",
       "      <td>19</td>\n",
       "      <td>212</td>\n",
       "      <td>2017-11-07 18:05:24</td>\n",
       "      <td>NaN</td>\n",
       "      <td>0</td>\n",
       "    </tr>\n",
       "    <tr>\n",
       "      <th>3</th>\n",
       "      <td>94584</td>\n",
       "      <td>13</td>\n",
       "      <td>1</td>\n",
       "      <td>13</td>\n",
       "      <td>477</td>\n",
       "      <td>2017-11-07 04:58:08</td>\n",
       "      <td>NaN</td>\n",
       "      <td>0</td>\n",
       "    </tr>\n",
       "    <tr>\n",
       "      <th>4</th>\n",
       "      <td>68413</td>\n",
       "      <td>12</td>\n",
       "      <td>1</td>\n",
       "      <td>1</td>\n",
       "      <td>178</td>\n",
       "      <td>2017-11-09 09:00:09</td>\n",
       "      <td>NaN</td>\n",
       "      <td>0</td>\n",
       "    </tr>\n",
       "    <tr>\n",
       "      <th>...</th>\n",
       "      <td>...</td>\n",
       "      <td>...</td>\n",
       "      <td>...</td>\n",
       "      <td>...</td>\n",
       "      <td>...</td>\n",
       "      <td>...</td>\n",
       "      <td>...</td>\n",
       "      <td>...</td>\n",
       "    </tr>\n",
       "    <tr>\n",
       "      <th>99995</th>\n",
       "      <td>124883</td>\n",
       "      <td>11</td>\n",
       "      <td>1</td>\n",
       "      <td>19</td>\n",
       "      <td>122</td>\n",
       "      <td>2017-11-09 13:25:41</td>\n",
       "      <td>NaN</td>\n",
       "      <td>0</td>\n",
       "    </tr>\n",
       "    <tr>\n",
       "      <th>99996</th>\n",
       "      <td>85150</td>\n",
       "      <td>9</td>\n",
       "      <td>1</td>\n",
       "      <td>13</td>\n",
       "      <td>244</td>\n",
       "      <td>2017-11-07 11:25:43</td>\n",
       "      <td>NaN</td>\n",
       "      <td>0</td>\n",
       "    </tr>\n",
       "    <tr>\n",
       "      <th>99997</th>\n",
       "      <td>18839</td>\n",
       "      <td>3</td>\n",
       "      <td>1</td>\n",
       "      <td>13</td>\n",
       "      <td>19</td>\n",
       "      <td>2017-11-08 11:38:42</td>\n",
       "      <td>NaN</td>\n",
       "      <td>0</td>\n",
       "    </tr>\n",
       "    <tr>\n",
       "      <th>99998</th>\n",
       "      <td>114276</td>\n",
       "      <td>15</td>\n",
       "      <td>1</td>\n",
       "      <td>12</td>\n",
       "      <td>245</td>\n",
       "      <td>2017-11-08 17:55:21</td>\n",
       "      <td>NaN</td>\n",
       "      <td>0</td>\n",
       "    </tr>\n",
       "    <tr>\n",
       "      <th>99999</th>\n",
       "      <td>119349</td>\n",
       "      <td>14</td>\n",
       "      <td>1</td>\n",
       "      <td>15</td>\n",
       "      <td>401</td>\n",
       "      <td>2017-11-07 14:32:27</td>\n",
       "      <td>NaN</td>\n",
       "      <td>0</td>\n",
       "    </tr>\n",
       "  </tbody>\n",
       "</table>\n",
       "<p>99012 rows × 8 columns</p>\n",
       "</div>"
      ],
      "text/plain": [
       "           ip  app  device  os  channel           click_time attributed_time  \\\n",
       "0       87540   12       1  13      497  2017-11-07 09:30:38             NaN   \n",
       "1      105560   25       1  17      259  2017-11-07 13:40:27             NaN   \n",
       "2      101424   12       1  19      212  2017-11-07 18:05:24             NaN   \n",
       "3       94584   13       1  13      477  2017-11-07 04:58:08             NaN   \n",
       "4       68413   12       1   1      178  2017-11-09 09:00:09             NaN   \n",
       "...       ...  ...     ...  ..      ...                  ...             ...   \n",
       "99995  124883   11       1  19      122  2017-11-09 13:25:41             NaN   \n",
       "99996   85150    9       1  13      244  2017-11-07 11:25:43             NaN   \n",
       "99997   18839    3       1  13       19  2017-11-08 11:38:42             NaN   \n",
       "99998  114276   15       1  12      245  2017-11-08 17:55:21             NaN   \n",
       "99999  119349   14       1  15      401  2017-11-07 14:32:27             NaN   \n",
       "\n",
       "       is_attributed  \n",
       "0                  0  \n",
       "1                  0  \n",
       "2                  0  \n",
       "3                  0  \n",
       "4                  0  \n",
       "...              ...  \n",
       "99995              0  \n",
       "99996              0  \n",
       "99997              0  \n",
       "99998              0  \n",
       "99999              0  \n",
       "\n",
       "[99012 rows x 8 columns]"
      ]
     },
     "execution_count": 20,
     "metadata": {},
     "output_type": "execute_result"
    }
   ],
   "source": [
    "data[greater_than_two_thousand]"
   ]
  },
  {
   "cell_type": "markdown",
   "metadata": {},
   "source": [
    "4)"
   ]
  },
  {
   "cell_type": "code",
   "execution_count": 21,
   "metadata": {},
   "outputs": [],
   "source": [
    "data['click_time'] = pd.to_datetime(data['click_time'])"
   ]
  },
  {
   "cell_type": "code",
   "execution_count": 22,
   "metadata": {},
   "outputs": [
    {
     "name": "stdout",
     "output_type": "stream",
     "text": [
      "<class 'pandas.core.frame.DataFrame'>\n",
      "RangeIndex: 100000 entries, 0 to 99999\n",
      "Data columns (total 8 columns):\n",
      " #   Column           Non-Null Count   Dtype         \n",
      "---  ------           --------------   -----         \n",
      " 0   ip               100000 non-null  int64         \n",
      " 1   app              100000 non-null  int64         \n",
      " 2   device           100000 non-null  int64         \n",
      " 3   os               100000 non-null  int64         \n",
      " 4   channel          100000 non-null  int64         \n",
      " 5   click_time       100000 non-null  datetime64[ns]\n",
      " 6   attributed_time  227 non-null     object        \n",
      " 7   is_attributed    100000 non-null  int64         \n",
      "dtypes: datetime64[ns](1), int64(6), object(1)\n",
      "memory usage: 6.1+ MB\n"
     ]
    }
   ],
   "source": [
    "data.info()"
   ]
  },
  {
   "cell_type": "code",
   "execution_count": 23,
   "metadata": {},
   "outputs": [
    {
     "data": {
      "text/html": [
       "<div>\n",
       "<style scoped>\n",
       "    .dataframe tbody tr th:only-of-type {\n",
       "        vertical-align: middle;\n",
       "    }\n",
       "\n",
       "    .dataframe tbody tr th {\n",
       "        vertical-align: top;\n",
       "    }\n",
       "\n",
       "    .dataframe thead th {\n",
       "        text-align: right;\n",
       "    }\n",
       "</style>\n",
       "<table border=\"1\" class=\"dataframe\">\n",
       "  <thead>\n",
       "    <tr style=\"text-align: right;\">\n",
       "      <th></th>\n",
       "      <th>ip</th>\n",
       "      <th>app</th>\n",
       "      <th>device</th>\n",
       "      <th>os</th>\n",
       "      <th>channel</th>\n",
       "      <th>click_time</th>\n",
       "      <th>attributed_time</th>\n",
       "      <th>is_attributed</th>\n",
       "    </tr>\n",
       "  </thead>\n",
       "  <tbody>\n",
       "    <tr>\n",
       "      <th>0</th>\n",
       "      <td>87540</td>\n",
       "      <td>12</td>\n",
       "      <td>1</td>\n",
       "      <td>13</td>\n",
       "      <td>497</td>\n",
       "      <td>2017-11-07 09:30:38</td>\n",
       "      <td>NaN</td>\n",
       "      <td>0</td>\n",
       "    </tr>\n",
       "    <tr>\n",
       "      <th>1</th>\n",
       "      <td>105560</td>\n",
       "      <td>25</td>\n",
       "      <td>1</td>\n",
       "      <td>17</td>\n",
       "      <td>259</td>\n",
       "      <td>2017-11-07 13:40:27</td>\n",
       "      <td>NaN</td>\n",
       "      <td>0</td>\n",
       "    </tr>\n",
       "    <tr>\n",
       "      <th>2</th>\n",
       "      <td>101424</td>\n",
       "      <td>12</td>\n",
       "      <td>1</td>\n",
       "      <td>19</td>\n",
       "      <td>212</td>\n",
       "      <td>2017-11-07 18:05:24</td>\n",
       "      <td>NaN</td>\n",
       "      <td>0</td>\n",
       "    </tr>\n",
       "    <tr>\n",
       "      <th>3</th>\n",
       "      <td>94584</td>\n",
       "      <td>13</td>\n",
       "      <td>1</td>\n",
       "      <td>13</td>\n",
       "      <td>477</td>\n",
       "      <td>2017-11-07 04:58:08</td>\n",
       "      <td>NaN</td>\n",
       "      <td>0</td>\n",
       "    </tr>\n",
       "    <tr>\n",
       "      <th>4</th>\n",
       "      <td>68413</td>\n",
       "      <td>12</td>\n",
       "      <td>1</td>\n",
       "      <td>1</td>\n",
       "      <td>178</td>\n",
       "      <td>2017-11-09 09:00:09</td>\n",
       "      <td>NaN</td>\n",
       "      <td>0</td>\n",
       "    </tr>\n",
       "    <tr>\n",
       "      <th>...</th>\n",
       "      <td>...</td>\n",
       "      <td>...</td>\n",
       "      <td>...</td>\n",
       "      <td>...</td>\n",
       "      <td>...</td>\n",
       "      <td>...</td>\n",
       "      <td>...</td>\n",
       "      <td>...</td>\n",
       "    </tr>\n",
       "    <tr>\n",
       "      <th>99995</th>\n",
       "      <td>124883</td>\n",
       "      <td>11</td>\n",
       "      <td>1</td>\n",
       "      <td>19</td>\n",
       "      <td>122</td>\n",
       "      <td>2017-11-09 13:25:41</td>\n",
       "      <td>NaN</td>\n",
       "      <td>0</td>\n",
       "    </tr>\n",
       "    <tr>\n",
       "      <th>99996</th>\n",
       "      <td>85150</td>\n",
       "      <td>9</td>\n",
       "      <td>1</td>\n",
       "      <td>13</td>\n",
       "      <td>244</td>\n",
       "      <td>2017-11-07 11:25:43</td>\n",
       "      <td>NaN</td>\n",
       "      <td>0</td>\n",
       "    </tr>\n",
       "    <tr>\n",
       "      <th>99997</th>\n",
       "      <td>18839</td>\n",
       "      <td>3</td>\n",
       "      <td>1</td>\n",
       "      <td>13</td>\n",
       "      <td>19</td>\n",
       "      <td>2017-11-08 11:38:42</td>\n",
       "      <td>NaN</td>\n",
       "      <td>0</td>\n",
       "    </tr>\n",
       "    <tr>\n",
       "      <th>99998</th>\n",
       "      <td>114276</td>\n",
       "      <td>15</td>\n",
       "      <td>1</td>\n",
       "      <td>12</td>\n",
       "      <td>245</td>\n",
       "      <td>2017-11-08 17:55:21</td>\n",
       "      <td>NaN</td>\n",
       "      <td>0</td>\n",
       "    </tr>\n",
       "    <tr>\n",
       "      <th>99999</th>\n",
       "      <td>119349</td>\n",
       "      <td>14</td>\n",
       "      <td>1</td>\n",
       "      <td>15</td>\n",
       "      <td>401</td>\n",
       "      <td>2017-11-07 14:32:27</td>\n",
       "      <td>NaN</td>\n",
       "      <td>0</td>\n",
       "    </tr>\n",
       "  </tbody>\n",
       "</table>\n",
       "<p>100000 rows × 8 columns</p>\n",
       "</div>"
      ],
      "text/plain": [
       "           ip  app  device  os  channel          click_time attributed_time  \\\n",
       "0       87540   12       1  13      497 2017-11-07 09:30:38             NaN   \n",
       "1      105560   25       1  17      259 2017-11-07 13:40:27             NaN   \n",
       "2      101424   12       1  19      212 2017-11-07 18:05:24             NaN   \n",
       "3       94584   13       1  13      477 2017-11-07 04:58:08             NaN   \n",
       "4       68413   12       1   1      178 2017-11-09 09:00:09             NaN   \n",
       "...       ...  ...     ...  ..      ...                 ...             ...   \n",
       "99995  124883   11       1  19      122 2017-11-09 13:25:41             NaN   \n",
       "99996   85150    9       1  13      244 2017-11-07 11:25:43             NaN   \n",
       "99997   18839    3       1  13       19 2017-11-08 11:38:42             NaN   \n",
       "99998  114276   15       1  12      245 2017-11-08 17:55:21             NaN   \n",
       "99999  119349   14       1  15      401 2017-11-07 14:32:27             NaN   \n",
       "\n",
       "       is_attributed  \n",
       "0                  0  \n",
       "1                  0  \n",
       "2                  0  \n",
       "3                  0  \n",
       "4                  0  \n",
       "...              ...  \n",
       "99995              0  \n",
       "99996              0  \n",
       "99997              0  \n",
       "99998              0  \n",
       "99999              0  \n",
       "\n",
       "[100000 rows x 8 columns]"
      ]
     },
     "execution_count": 23,
     "metadata": {},
     "output_type": "execute_result"
    }
   ],
   "source": [
    "data"
   ]
  },
  {
   "cell_type": "code",
   "execution_count": 24,
   "metadata": {},
   "outputs": [
    {
     "data": {
      "text/plain": [
       "0        11\n",
       "1        11\n",
       "2        11\n",
       "3        11\n",
       "4        11\n",
       "         ..\n",
       "99995    11\n",
       "99996    11\n",
       "99997    11\n",
       "99998    11\n",
       "99999    11\n",
       "Name: click_time, Length: 100000, dtype: int64"
      ]
     },
     "execution_count": 24,
     "metadata": {},
     "output_type": "execute_result"
    }
   ],
   "source": [
    "data['click_time'].apply(lambda x:x.month)"
   ]
  },
  {
   "cell_type": "code",
   "execution_count": 25,
   "metadata": {},
   "outputs": [
    {
     "data": {
      "text/plain": [
       "0        7\n",
       "1        7\n",
       "2        7\n",
       "3        7\n",
       "4        9\n",
       "        ..\n",
       "99995    9\n",
       "99996    7\n",
       "99997    8\n",
       "99998    8\n",
       "99999    7\n",
       "Name: click_time, Length: 100000, dtype: int64"
      ]
     },
     "execution_count": 25,
     "metadata": {},
     "output_type": "execute_result"
    }
   ],
   "source": [
    "data['click_time'].apply(lambda x:x.day)"
   ]
  },
  {
   "cell_type": "code",
   "execution_count": 26,
   "metadata": {},
   "outputs": [],
   "source": [
    "hour = data['click_time'].apply(lambda x:x.hour)"
   ]
  },
  {
   "cell_type": "code",
   "execution_count": 27,
   "metadata": {},
   "outputs": [
    {
     "name": "stdout",
     "output_type": "stream",
     "text": [
      "           ip  app  device  os  channel          click_time attributed_time  \\\n",
      "0       87540   12       1  13      497 2017-11-07 09:30:38             NaN   \n",
      "1      105560   25       1  17      259 2017-11-07 13:40:27             NaN   \n",
      "2      101424   12       1  19      212 2017-11-07 18:05:24             NaN   \n",
      "3       94584   13       1  13      477 2017-11-07 04:58:08             NaN   \n",
      "4       68413   12       1   1      178 2017-11-09 09:00:09             NaN   \n",
      "...       ...  ...     ...  ..      ...                 ...             ...   \n",
      "99995  124883   11       1  19      122 2017-11-09 13:25:41             NaN   \n",
      "99996   85150    9       1  13      244 2017-11-07 11:25:43             NaN   \n",
      "99997   18839    3       1  13       19 2017-11-08 11:38:42             NaN   \n",
      "99998  114276   15       1  12      245 2017-11-08 17:55:21             NaN   \n",
      "99999  119349   14       1  15      401 2017-11-07 14:32:27             NaN   \n",
      "\n",
      "       is_attributed  hour  \n",
      "0                  0     9  \n",
      "1                  0    13  \n",
      "2                  0    18  \n",
      "3                  0     4  \n",
      "4                  0     9  \n",
      "...              ...   ...  \n",
      "99995              0    13  \n",
      "99996              0    11  \n",
      "99997              0    11  \n",
      "99998              0    17  \n",
      "99999              0    14  \n",
      "\n",
      "[100000 rows x 9 columns]\n"
     ]
    }
   ],
   "source": [
    "data['hour'] = hour\n",
    "print(data)"
   ]
  },
  {
   "cell_type": "code",
   "execution_count": 28,
   "metadata": {},
   "outputs": [
    {
     "data": {
      "text/plain": [
       "0        30\n",
       "1        40\n",
       "2         5\n",
       "3        58\n",
       "4         0\n",
       "         ..\n",
       "99995    25\n",
       "99996    25\n",
       "99997    38\n",
       "99998    55\n",
       "99999    32\n",
       "Name: click_time, Length: 100000, dtype: int64"
      ]
     },
     "execution_count": 28,
     "metadata": {},
     "output_type": "execute_result"
    }
   ],
   "source": [
    "data['click_time'].apply(lambda x:x.minute)"
   ]
  },
  {
   "cell_type": "code",
   "execution_count": 29,
   "metadata": {},
   "outputs": [
    {
     "data": {
      "text/html": [
       "<div>\n",
       "<style scoped>\n",
       "    .dataframe tbody tr th:only-of-type {\n",
       "        vertical-align: middle;\n",
       "    }\n",
       "\n",
       "    .dataframe tbody tr th {\n",
       "        vertical-align: top;\n",
       "    }\n",
       "\n",
       "    .dataframe thead th {\n",
       "        text-align: right;\n",
       "    }\n",
       "</style>\n",
       "<table border=\"1\" class=\"dataframe\">\n",
       "  <thead>\n",
       "    <tr style=\"text-align: right;\">\n",
       "      <th></th>\n",
       "      <th>ip</th>\n",
       "      <th>app</th>\n",
       "      <th>device</th>\n",
       "      <th>os</th>\n",
       "      <th>channel</th>\n",
       "      <th>click_time</th>\n",
       "      <th>attributed_time</th>\n",
       "      <th>is_attributed</th>\n",
       "      <th>hour</th>\n",
       "      <th>day_of_year</th>\n",
       "    </tr>\n",
       "  </thead>\n",
       "  <tbody>\n",
       "    <tr>\n",
       "      <th>0</th>\n",
       "      <td>87540</td>\n",
       "      <td>12</td>\n",
       "      <td>1</td>\n",
       "      <td>13</td>\n",
       "      <td>497</td>\n",
       "      <td>2017-11-07 09:30:38</td>\n",
       "      <td>NaN</td>\n",
       "      <td>0</td>\n",
       "      <td>9</td>\n",
       "      <td>311</td>\n",
       "    </tr>\n",
       "    <tr>\n",
       "      <th>1</th>\n",
       "      <td>105560</td>\n",
       "      <td>25</td>\n",
       "      <td>1</td>\n",
       "      <td>17</td>\n",
       "      <td>259</td>\n",
       "      <td>2017-11-07 13:40:27</td>\n",
       "      <td>NaN</td>\n",
       "      <td>0</td>\n",
       "      <td>13</td>\n",
       "      <td>311</td>\n",
       "    </tr>\n",
       "    <tr>\n",
       "      <th>2</th>\n",
       "      <td>101424</td>\n",
       "      <td>12</td>\n",
       "      <td>1</td>\n",
       "      <td>19</td>\n",
       "      <td>212</td>\n",
       "      <td>2017-11-07 18:05:24</td>\n",
       "      <td>NaN</td>\n",
       "      <td>0</td>\n",
       "      <td>18</td>\n",
       "      <td>311</td>\n",
       "    </tr>\n",
       "    <tr>\n",
       "      <th>3</th>\n",
       "      <td>94584</td>\n",
       "      <td>13</td>\n",
       "      <td>1</td>\n",
       "      <td>13</td>\n",
       "      <td>477</td>\n",
       "      <td>2017-11-07 04:58:08</td>\n",
       "      <td>NaN</td>\n",
       "      <td>0</td>\n",
       "      <td>4</td>\n",
       "      <td>311</td>\n",
       "    </tr>\n",
       "    <tr>\n",
       "      <th>4</th>\n",
       "      <td>68413</td>\n",
       "      <td>12</td>\n",
       "      <td>1</td>\n",
       "      <td>1</td>\n",
       "      <td>178</td>\n",
       "      <td>2017-11-09 09:00:09</td>\n",
       "      <td>NaN</td>\n",
       "      <td>0</td>\n",
       "      <td>9</td>\n",
       "      <td>313</td>\n",
       "    </tr>\n",
       "    <tr>\n",
       "      <th>...</th>\n",
       "      <td>...</td>\n",
       "      <td>...</td>\n",
       "      <td>...</td>\n",
       "      <td>...</td>\n",
       "      <td>...</td>\n",
       "      <td>...</td>\n",
       "      <td>...</td>\n",
       "      <td>...</td>\n",
       "      <td>...</td>\n",
       "      <td>...</td>\n",
       "    </tr>\n",
       "    <tr>\n",
       "      <th>99995</th>\n",
       "      <td>124883</td>\n",
       "      <td>11</td>\n",
       "      <td>1</td>\n",
       "      <td>19</td>\n",
       "      <td>122</td>\n",
       "      <td>2017-11-09 13:25:41</td>\n",
       "      <td>NaN</td>\n",
       "      <td>0</td>\n",
       "      <td>13</td>\n",
       "      <td>313</td>\n",
       "    </tr>\n",
       "    <tr>\n",
       "      <th>99996</th>\n",
       "      <td>85150</td>\n",
       "      <td>9</td>\n",
       "      <td>1</td>\n",
       "      <td>13</td>\n",
       "      <td>244</td>\n",
       "      <td>2017-11-07 11:25:43</td>\n",
       "      <td>NaN</td>\n",
       "      <td>0</td>\n",
       "      <td>11</td>\n",
       "      <td>311</td>\n",
       "    </tr>\n",
       "    <tr>\n",
       "      <th>99997</th>\n",
       "      <td>18839</td>\n",
       "      <td>3</td>\n",
       "      <td>1</td>\n",
       "      <td>13</td>\n",
       "      <td>19</td>\n",
       "      <td>2017-11-08 11:38:42</td>\n",
       "      <td>NaN</td>\n",
       "      <td>0</td>\n",
       "      <td>11</td>\n",
       "      <td>312</td>\n",
       "    </tr>\n",
       "    <tr>\n",
       "      <th>99998</th>\n",
       "      <td>114276</td>\n",
       "      <td>15</td>\n",
       "      <td>1</td>\n",
       "      <td>12</td>\n",
       "      <td>245</td>\n",
       "      <td>2017-11-08 17:55:21</td>\n",
       "      <td>NaN</td>\n",
       "      <td>0</td>\n",
       "      <td>17</td>\n",
       "      <td>312</td>\n",
       "    </tr>\n",
       "    <tr>\n",
       "      <th>99999</th>\n",
       "      <td>119349</td>\n",
       "      <td>14</td>\n",
       "      <td>1</td>\n",
       "      <td>15</td>\n",
       "      <td>401</td>\n",
       "      <td>2017-11-07 14:32:27</td>\n",
       "      <td>NaN</td>\n",
       "      <td>0</td>\n",
       "      <td>14</td>\n",
       "      <td>311</td>\n",
       "    </tr>\n",
       "  </tbody>\n",
       "</table>\n",
       "<p>100000 rows × 10 columns</p>\n",
       "</div>"
      ],
      "text/plain": [
       "           ip  app  device  os  channel          click_time attributed_time  \\\n",
       "0       87540   12       1  13      497 2017-11-07 09:30:38             NaN   \n",
       "1      105560   25       1  17      259 2017-11-07 13:40:27             NaN   \n",
       "2      101424   12       1  19      212 2017-11-07 18:05:24             NaN   \n",
       "3       94584   13       1  13      477 2017-11-07 04:58:08             NaN   \n",
       "4       68413   12       1   1      178 2017-11-09 09:00:09             NaN   \n",
       "...       ...  ...     ...  ..      ...                 ...             ...   \n",
       "99995  124883   11       1  19      122 2017-11-09 13:25:41             NaN   \n",
       "99996   85150    9       1  13      244 2017-11-07 11:25:43             NaN   \n",
       "99997   18839    3       1  13       19 2017-11-08 11:38:42             NaN   \n",
       "99998  114276   15       1  12      245 2017-11-08 17:55:21             NaN   \n",
       "99999  119349   14       1  15      401 2017-11-07 14:32:27             NaN   \n",
       "\n",
       "       is_attributed  hour day_of_year  \n",
       "0                  0     9         311  \n",
       "1                  0    13         311  \n",
       "2                  0    18         311  \n",
       "3                  0     4         311  \n",
       "4                  0     9         313  \n",
       "...              ...   ...         ...  \n",
       "99995              0    13         313  \n",
       "99996              0    11         311  \n",
       "99997              0    11         312  \n",
       "99998              0    17         312  \n",
       "99999              0    14         311  \n",
       "\n",
       "[100000 rows x 10 columns]"
      ]
     },
     "metadata": {},
     "output_type": "display_data"
    }
   ],
   "source": [
    "day_of_year=data['click_time'].apply(lambda x:x.strftime('%j'))\n",
    "data['day_of_year']= day_of_year\n",
    "display(data)"
   ]
  },
  {
   "cell_type": "code",
   "execution_count": 30,
   "metadata": {},
   "outputs": [
    {
     "data": {
      "text/html": [
       "<div>\n",
       "<style scoped>\n",
       "    .dataframe tbody tr th:only-of-type {\n",
       "        vertical-align: middle;\n",
       "    }\n",
       "\n",
       "    .dataframe tbody tr th {\n",
       "        vertical-align: top;\n",
       "    }\n",
       "\n",
       "    .dataframe thead th {\n",
       "        text-align: right;\n",
       "    }\n",
       "</style>\n",
       "<table border=\"1\" class=\"dataframe\">\n",
       "  <thead>\n",
       "    <tr style=\"text-align: right;\">\n",
       "      <th></th>\n",
       "      <th>ip</th>\n",
       "      <th>app</th>\n",
       "      <th>device</th>\n",
       "      <th>os</th>\n",
       "      <th>channel</th>\n",
       "      <th>click_time</th>\n",
       "      <th>attributed_time</th>\n",
       "      <th>is_attributed</th>\n",
       "      <th>hour</th>\n",
       "      <th>day_of_year</th>\n",
       "    </tr>\n",
       "  </thead>\n",
       "  <tbody>\n",
       "    <tr>\n",
       "      <th>0</th>\n",
       "      <td>87540</td>\n",
       "      <td>12</td>\n",
       "      <td>1</td>\n",
       "      <td>13</td>\n",
       "      <td>497</td>\n",
       "      <td>2017-11-07 09:30:38</td>\n",
       "      <td>NaN</td>\n",
       "      <td>0</td>\n",
       "      <td>9</td>\n",
       "      <td>311</td>\n",
       "    </tr>\n",
       "    <tr>\n",
       "      <th>1</th>\n",
       "      <td>105560</td>\n",
       "      <td>25</td>\n",
       "      <td>1</td>\n",
       "      <td>17</td>\n",
       "      <td>259</td>\n",
       "      <td>2017-11-07 13:40:27</td>\n",
       "      <td>NaN</td>\n",
       "      <td>0</td>\n",
       "      <td>13</td>\n",
       "      <td>311</td>\n",
       "    </tr>\n",
       "    <tr>\n",
       "      <th>2</th>\n",
       "      <td>101424</td>\n",
       "      <td>12</td>\n",
       "      <td>1</td>\n",
       "      <td>19</td>\n",
       "      <td>212</td>\n",
       "      <td>2017-11-07 18:05:24</td>\n",
       "      <td>NaN</td>\n",
       "      <td>0</td>\n",
       "      <td>18</td>\n",
       "      <td>311</td>\n",
       "    </tr>\n",
       "    <tr>\n",
       "      <th>3</th>\n",
       "      <td>94584</td>\n",
       "      <td>13</td>\n",
       "      <td>1</td>\n",
       "      <td>13</td>\n",
       "      <td>477</td>\n",
       "      <td>2017-11-07 04:58:08</td>\n",
       "      <td>NaN</td>\n",
       "      <td>0</td>\n",
       "      <td>4</td>\n",
       "      <td>311</td>\n",
       "    </tr>\n",
       "    <tr>\n",
       "      <th>4</th>\n",
       "      <td>68413</td>\n",
       "      <td>12</td>\n",
       "      <td>1</td>\n",
       "      <td>1</td>\n",
       "      <td>178</td>\n",
       "      <td>2017-11-09 09:00:09</td>\n",
       "      <td>NaN</td>\n",
       "      <td>0</td>\n",
       "      <td>9</td>\n",
       "      <td>313</td>\n",
       "    </tr>\n",
       "    <tr>\n",
       "      <th>...</th>\n",
       "      <td>...</td>\n",
       "      <td>...</td>\n",
       "      <td>...</td>\n",
       "      <td>...</td>\n",
       "      <td>...</td>\n",
       "      <td>...</td>\n",
       "      <td>...</td>\n",
       "      <td>...</td>\n",
       "      <td>...</td>\n",
       "      <td>...</td>\n",
       "    </tr>\n",
       "    <tr>\n",
       "      <th>99995</th>\n",
       "      <td>124883</td>\n",
       "      <td>11</td>\n",
       "      <td>1</td>\n",
       "      <td>19</td>\n",
       "      <td>122</td>\n",
       "      <td>2017-11-09 13:25:41</td>\n",
       "      <td>NaN</td>\n",
       "      <td>0</td>\n",
       "      <td>13</td>\n",
       "      <td>313</td>\n",
       "    </tr>\n",
       "    <tr>\n",
       "      <th>99996</th>\n",
       "      <td>85150</td>\n",
       "      <td>9</td>\n",
       "      <td>1</td>\n",
       "      <td>13</td>\n",
       "      <td>244</td>\n",
       "      <td>2017-11-07 11:25:43</td>\n",
       "      <td>NaN</td>\n",
       "      <td>0</td>\n",
       "      <td>11</td>\n",
       "      <td>311</td>\n",
       "    </tr>\n",
       "    <tr>\n",
       "      <th>99997</th>\n",
       "      <td>18839</td>\n",
       "      <td>3</td>\n",
       "      <td>1</td>\n",
       "      <td>13</td>\n",
       "      <td>19</td>\n",
       "      <td>2017-11-08 11:38:42</td>\n",
       "      <td>NaN</td>\n",
       "      <td>0</td>\n",
       "      <td>11</td>\n",
       "      <td>312</td>\n",
       "    </tr>\n",
       "    <tr>\n",
       "      <th>99998</th>\n",
       "      <td>114276</td>\n",
       "      <td>15</td>\n",
       "      <td>1</td>\n",
       "      <td>12</td>\n",
       "      <td>245</td>\n",
       "      <td>2017-11-08 17:55:21</td>\n",
       "      <td>NaN</td>\n",
       "      <td>0</td>\n",
       "      <td>17</td>\n",
       "      <td>312</td>\n",
       "    </tr>\n",
       "    <tr>\n",
       "      <th>99999</th>\n",
       "      <td>119349</td>\n",
       "      <td>14</td>\n",
       "      <td>1</td>\n",
       "      <td>15</td>\n",
       "      <td>401</td>\n",
       "      <td>2017-11-07 14:32:27</td>\n",
       "      <td>NaN</td>\n",
       "      <td>0</td>\n",
       "      <td>14</td>\n",
       "      <td>311</td>\n",
       "    </tr>\n",
       "  </tbody>\n",
       "</table>\n",
       "<p>100000 rows × 10 columns</p>\n",
       "</div>"
      ],
      "text/plain": [
       "           ip  app  device  os  channel          click_time attributed_time  \\\n",
       "0       87540   12       1  13      497 2017-11-07 09:30:38             NaN   \n",
       "1      105560   25       1  17      259 2017-11-07 13:40:27             NaN   \n",
       "2      101424   12       1  19      212 2017-11-07 18:05:24             NaN   \n",
       "3       94584   13       1  13      477 2017-11-07 04:58:08             NaN   \n",
       "4       68413   12       1   1      178 2017-11-09 09:00:09             NaN   \n",
       "...       ...  ...     ...  ..      ...                 ...             ...   \n",
       "99995  124883   11       1  19      122 2017-11-09 13:25:41             NaN   \n",
       "99996   85150    9       1  13      244 2017-11-07 11:25:43             NaN   \n",
       "99997   18839    3       1  13       19 2017-11-08 11:38:42             NaN   \n",
       "99998  114276   15       1  12      245 2017-11-08 17:55:21             NaN   \n",
       "99999  119349   14       1  15      401 2017-11-07 14:32:27             NaN   \n",
       "\n",
       "       is_attributed  hour day_of_year  \n",
       "0                  0     9         311  \n",
       "1                  0    13         311  \n",
       "2                  0    18         311  \n",
       "3                  0     4         311  \n",
       "4                  0     9         313  \n",
       "...              ...   ...         ...  \n",
       "99995              0    13         313  \n",
       "99996              0    11         311  \n",
       "99997              0    11         312  \n",
       "99998              0    17         312  \n",
       "99999              0    14         311  \n",
       "\n",
       "[100000 rows x 10 columns]"
      ]
     },
     "execution_count": 30,
     "metadata": {},
     "output_type": "execute_result"
    }
   ],
   "source": [
    "data"
   ]
  },
  {
   "cell_type": "code",
   "execution_count": 31,
   "metadata": {},
   "outputs": [
    {
     "data": {
      "text/plain": [
       "0        38\n",
       "1        27\n",
       "2        24\n",
       "3         8\n",
       "4         9\n",
       "         ..\n",
       "99995    41\n",
       "99996    43\n",
       "99997    42\n",
       "99998    21\n",
       "99999    27\n",
       "Name: click_time, Length: 100000, dtype: int64"
      ]
     },
     "execution_count": 31,
     "metadata": {},
     "output_type": "execute_result"
    }
   ],
   "source": [
    "data['click_time'].apply(lambda x:x.second)"
   ]
  },
  {
   "cell_type": "code",
   "execution_count": 32,
   "metadata": {},
   "outputs": [],
   "source": [
    "# data.drop(columns = ['A','B'])"
   ]
  },
  {
   "cell_type": "code",
   "execution_count": 33,
   "metadata": {},
   "outputs": [
    {
     "data": {
      "text/plain": [
       "0        311\n",
       "1        311\n",
       "2        311\n",
       "3        311\n",
       "4        313\n",
       "        ... \n",
       "99995    313\n",
       "99996    311\n",
       "99997    312\n",
       "99998    312\n",
       "99999    311\n",
       "Name: day_of_year, Length: 100000, dtype: int32"
      ]
     },
     "execution_count": 33,
     "metadata": {},
     "output_type": "execute_result"
    }
   ],
   "source": [
    "data['day_of_year'].astype(str).astype(int)"
   ]
  },
  {
   "cell_type": "code",
   "execution_count": 34,
   "metadata": {},
   "outputs": [],
   "source": [
    "data = data.drop(columns=['click_time','attributed_time'])"
   ]
  },
  {
   "cell_type": "code",
   "execution_count": 35,
   "metadata": {},
   "outputs": [
    {
     "data": {
      "text/html": [
       "<div>\n",
       "<style scoped>\n",
       "    .dataframe tbody tr th:only-of-type {\n",
       "        vertical-align: middle;\n",
       "    }\n",
       "\n",
       "    .dataframe tbody tr th {\n",
       "        vertical-align: top;\n",
       "    }\n",
       "\n",
       "    .dataframe thead th {\n",
       "        text-align: right;\n",
       "    }\n",
       "</style>\n",
       "<table border=\"1\" class=\"dataframe\">\n",
       "  <thead>\n",
       "    <tr style=\"text-align: right;\">\n",
       "      <th></th>\n",
       "      <th>ip</th>\n",
       "      <th>app</th>\n",
       "      <th>device</th>\n",
       "      <th>os</th>\n",
       "      <th>channel</th>\n",
       "      <th>is_attributed</th>\n",
       "      <th>hour</th>\n",
       "      <th>day_of_year</th>\n",
       "    </tr>\n",
       "  </thead>\n",
       "  <tbody>\n",
       "    <tr>\n",
       "      <th>0</th>\n",
       "      <td>87540</td>\n",
       "      <td>12</td>\n",
       "      <td>1</td>\n",
       "      <td>13</td>\n",
       "      <td>497</td>\n",
       "      <td>0</td>\n",
       "      <td>9</td>\n",
       "      <td>311</td>\n",
       "    </tr>\n",
       "    <tr>\n",
       "      <th>1</th>\n",
       "      <td>105560</td>\n",
       "      <td>25</td>\n",
       "      <td>1</td>\n",
       "      <td>17</td>\n",
       "      <td>259</td>\n",
       "      <td>0</td>\n",
       "      <td>13</td>\n",
       "      <td>311</td>\n",
       "    </tr>\n",
       "    <tr>\n",
       "      <th>2</th>\n",
       "      <td>101424</td>\n",
       "      <td>12</td>\n",
       "      <td>1</td>\n",
       "      <td>19</td>\n",
       "      <td>212</td>\n",
       "      <td>0</td>\n",
       "      <td>18</td>\n",
       "      <td>311</td>\n",
       "    </tr>\n",
       "    <tr>\n",
       "      <th>3</th>\n",
       "      <td>94584</td>\n",
       "      <td>13</td>\n",
       "      <td>1</td>\n",
       "      <td>13</td>\n",
       "      <td>477</td>\n",
       "      <td>0</td>\n",
       "      <td>4</td>\n",
       "      <td>311</td>\n",
       "    </tr>\n",
       "    <tr>\n",
       "      <th>4</th>\n",
       "      <td>68413</td>\n",
       "      <td>12</td>\n",
       "      <td>1</td>\n",
       "      <td>1</td>\n",
       "      <td>178</td>\n",
       "      <td>0</td>\n",
       "      <td>9</td>\n",
       "      <td>313</td>\n",
       "    </tr>\n",
       "    <tr>\n",
       "      <th>...</th>\n",
       "      <td>...</td>\n",
       "      <td>...</td>\n",
       "      <td>...</td>\n",
       "      <td>...</td>\n",
       "      <td>...</td>\n",
       "      <td>...</td>\n",
       "      <td>...</td>\n",
       "      <td>...</td>\n",
       "    </tr>\n",
       "    <tr>\n",
       "      <th>99995</th>\n",
       "      <td>124883</td>\n",
       "      <td>11</td>\n",
       "      <td>1</td>\n",
       "      <td>19</td>\n",
       "      <td>122</td>\n",
       "      <td>0</td>\n",
       "      <td>13</td>\n",
       "      <td>313</td>\n",
       "    </tr>\n",
       "    <tr>\n",
       "      <th>99996</th>\n",
       "      <td>85150</td>\n",
       "      <td>9</td>\n",
       "      <td>1</td>\n",
       "      <td>13</td>\n",
       "      <td>244</td>\n",
       "      <td>0</td>\n",
       "      <td>11</td>\n",
       "      <td>311</td>\n",
       "    </tr>\n",
       "    <tr>\n",
       "      <th>99997</th>\n",
       "      <td>18839</td>\n",
       "      <td>3</td>\n",
       "      <td>1</td>\n",
       "      <td>13</td>\n",
       "      <td>19</td>\n",
       "      <td>0</td>\n",
       "      <td>11</td>\n",
       "      <td>312</td>\n",
       "    </tr>\n",
       "    <tr>\n",
       "      <th>99998</th>\n",
       "      <td>114276</td>\n",
       "      <td>15</td>\n",
       "      <td>1</td>\n",
       "      <td>12</td>\n",
       "      <td>245</td>\n",
       "      <td>0</td>\n",
       "      <td>17</td>\n",
       "      <td>312</td>\n",
       "    </tr>\n",
       "    <tr>\n",
       "      <th>99999</th>\n",
       "      <td>119349</td>\n",
       "      <td>14</td>\n",
       "      <td>1</td>\n",
       "      <td>15</td>\n",
       "      <td>401</td>\n",
       "      <td>0</td>\n",
       "      <td>14</td>\n",
       "      <td>311</td>\n",
       "    </tr>\n",
       "  </tbody>\n",
       "</table>\n",
       "<p>100000 rows × 8 columns</p>\n",
       "</div>"
      ],
      "text/plain": [
       "           ip  app  device  os  channel  is_attributed  hour  day_of_year\n",
       "0       87540   12       1  13      497              0     9          311\n",
       "1      105560   25       1  17      259              0    13          311\n",
       "2      101424   12       1  19      212              0    18          311\n",
       "3       94584   13       1  13      477              0     4          311\n",
       "4       68413   12       1   1      178              0     9          313\n",
       "...       ...  ...     ...  ..      ...            ...   ...          ...\n",
       "99995  124883   11       1  19      122              0    13          313\n",
       "99996   85150    9       1  13      244              0    11          311\n",
       "99997   18839    3       1  13       19              0    11          312\n",
       "99998  114276   15       1  12      245              0    17          312\n",
       "99999  119349   14       1  15      401              0    14          311\n",
       "\n",
       "[100000 rows x 8 columns]"
      ]
     },
     "metadata": {},
     "output_type": "display_data"
    }
   ],
   "source": [
    "data = data.astype({'day_of_year':int})\n",
    "display(data)"
   ]
  },
  {
   "cell_type": "markdown",
   "metadata": {},
   "source": [
    "5)"
   ]
  },
  {
   "cell_type": "code",
   "execution_count": 36,
   "metadata": {},
   "outputs": [],
   "source": [
    "from sklearn.model_selection import train_test_split\n",
    "from sklearn import metrics\n",
    "from sklearn import preprocessing"
   ]
  },
  {
   "cell_type": "code",
   "execution_count": 37,
   "metadata": {},
   "outputs": [
    {
     "name": "stdout",
     "output_type": "stream",
     "text": [
      "(80000, 7) (20000, 7) (80000,) (20000,)\n"
     ]
    },
    {
     "data": {
      "text/html": [
       "<div>\n",
       "<style scoped>\n",
       "    .dataframe tbody tr th:only-of-type {\n",
       "        vertical-align: middle;\n",
       "    }\n",
       "\n",
       "    .dataframe tbody tr th {\n",
       "        vertical-align: top;\n",
       "    }\n",
       "\n",
       "    .dataframe thead th {\n",
       "        text-align: right;\n",
       "    }\n",
       "</style>\n",
       "<table border=\"1\" class=\"dataframe\">\n",
       "  <thead>\n",
       "    <tr style=\"text-align: right;\">\n",
       "      <th></th>\n",
       "      <th>ip</th>\n",
       "      <th>app</th>\n",
       "      <th>device</th>\n",
       "      <th>os</th>\n",
       "      <th>channel</th>\n",
       "      <th>hour</th>\n",
       "      <th>day_of_year</th>\n",
       "    </tr>\n",
       "  </thead>\n",
       "  <tbody>\n",
       "    <tr>\n",
       "      <th>31152</th>\n",
       "      <td>74324</td>\n",
       "      <td>12</td>\n",
       "      <td>1</td>\n",
       "      <td>18</td>\n",
       "      <td>259</td>\n",
       "      <td>3</td>\n",
       "      <td>311</td>\n",
       "    </tr>\n",
       "    <tr>\n",
       "      <th>33499</th>\n",
       "      <td>115621</td>\n",
       "      <td>3</td>\n",
       "      <td>1</td>\n",
       "      <td>19</td>\n",
       "      <td>137</td>\n",
       "      <td>11</td>\n",
       "      <td>311</td>\n",
       "    </tr>\n",
       "    <tr>\n",
       "      <th>18594</th>\n",
       "      <td>98476</td>\n",
       "      <td>15</td>\n",
       "      <td>1</td>\n",
       "      <td>13</td>\n",
       "      <td>111</td>\n",
       "      <td>10</td>\n",
       "      <td>312</td>\n",
       "    </tr>\n",
       "    <tr>\n",
       "      <th>97132</th>\n",
       "      <td>83194</td>\n",
       "      <td>13</td>\n",
       "      <td>1</td>\n",
       "      <td>6</td>\n",
       "      <td>477</td>\n",
       "      <td>23</td>\n",
       "      <td>311</td>\n",
       "    </tr>\n",
       "    <tr>\n",
       "      <th>56015</th>\n",
       "      <td>40342</td>\n",
       "      <td>18</td>\n",
       "      <td>1</td>\n",
       "      <td>13</td>\n",
       "      <td>439</td>\n",
       "      <td>9</td>\n",
       "      <td>311</td>\n",
       "    </tr>\n",
       "    <tr>\n",
       "      <th>...</th>\n",
       "      <td>...</td>\n",
       "      <td>...</td>\n",
       "      <td>...</td>\n",
       "      <td>...</td>\n",
       "      <td>...</td>\n",
       "      <td>...</td>\n",
       "      <td>...</td>\n",
       "    </tr>\n",
       "    <tr>\n",
       "      <th>9372</th>\n",
       "      <td>122411</td>\n",
       "      <td>9</td>\n",
       "      <td>1</td>\n",
       "      <td>19</td>\n",
       "      <td>466</td>\n",
       "      <td>10</td>\n",
       "      <td>313</td>\n",
       "    </tr>\n",
       "    <tr>\n",
       "      <th>93553</th>\n",
       "      <td>23674</td>\n",
       "      <td>3</td>\n",
       "      <td>1</td>\n",
       "      <td>19</td>\n",
       "      <td>424</td>\n",
       "      <td>13</td>\n",
       "      <td>311</td>\n",
       "    </tr>\n",
       "    <tr>\n",
       "      <th>50496</th>\n",
       "      <td>2180</td>\n",
       "      <td>24</td>\n",
       "      <td>2</td>\n",
       "      <td>40</td>\n",
       "      <td>105</td>\n",
       "      <td>15</td>\n",
       "      <td>313</td>\n",
       "    </tr>\n",
       "    <tr>\n",
       "      <th>94735</th>\n",
       "      <td>106035</td>\n",
       "      <td>18</td>\n",
       "      <td>1</td>\n",
       "      <td>8</td>\n",
       "      <td>379</td>\n",
       "      <td>7</td>\n",
       "      <td>313</td>\n",
       "    </tr>\n",
       "    <tr>\n",
       "      <th>83209</th>\n",
       "      <td>126408</td>\n",
       "      <td>2</td>\n",
       "      <td>1</td>\n",
       "      <td>15</td>\n",
       "      <td>477</td>\n",
       "      <td>18</td>\n",
       "      <td>310</td>\n",
       "    </tr>\n",
       "  </tbody>\n",
       "</table>\n",
       "<p>80000 rows × 7 columns</p>\n",
       "</div>"
      ],
      "text/plain": [
       "           ip  app  device  os  channel  hour  day_of_year\n",
       "31152   74324   12       1  18      259     3          311\n",
       "33499  115621    3       1  19      137    11          311\n",
       "18594   98476   15       1  13      111    10          312\n",
       "97132   83194   13       1   6      477    23          311\n",
       "56015   40342   18       1  13      439     9          311\n",
       "...       ...  ...     ...  ..      ...   ...          ...\n",
       "9372   122411    9       1  19      466    10          313\n",
       "93553   23674    3       1  19      424    13          311\n",
       "50496    2180   24       2  40      105    15          313\n",
       "94735  106035   18       1   8      379     7          313\n",
       "83209  126408    2       1  15      477    18          310\n",
       "\n",
       "[80000 rows x 7 columns]"
      ]
     },
     "metadata": {},
     "output_type": "display_data"
    },
    {
     "data": {
      "text/plain": [
       "31152    0\n",
       "33499    0\n",
       "18594    0\n",
       "97132    0\n",
       "56015    0\n",
       "        ..\n",
       "9372     0\n",
       "93553    0\n",
       "50496    0\n",
       "94735    0\n",
       "83209    0\n",
       "Name: is_attributed, Length: 80000, dtype: int64"
      ]
     },
     "metadata": {},
     "output_type": "display_data"
    }
   ],
   "source": [
    "# data=data.drop(columns = ['attributed_time'])\n",
    "x = data.drop('is_attributed', axis=1)\n",
    "y = data['is_attributed']\n",
    "x_train, x_test, y_train, y_test = train_test_split(x,y,test_size = 0.20, random_state=10)\n",
    "print(x_train.shape, x_test.shape, y_train.shape, y_test.shape)\n",
    "display(x_train,y_train)"
   ]
  },
  {
   "cell_type": "code",
   "execution_count": 38,
   "metadata": {},
   "outputs": [
    {
     "data": {
      "text/plain": [
       "0.00235"
      ]
     },
     "execution_count": 38,
     "metadata": {},
     "output_type": "execute_result"
    }
   ],
   "source": [
    "y_train.mean()"
   ]
  },
  {
   "cell_type": "code",
   "execution_count": 39,
   "metadata": {},
   "outputs": [
    {
     "data": {
      "text/plain": [
       "0.00195"
      ]
     },
     "execution_count": 39,
     "metadata": {},
     "output_type": "execute_result"
    }
   ],
   "source": [
    "y_test.mean()"
   ]
  },
  {
   "cell_type": "markdown",
   "metadata": {},
   "source": [
    "6)"
   ]
  },
  {
   "cell_type": "code",
   "execution_count": 40,
   "metadata": {},
   "outputs": [
    {
     "data": {
      "text/plain": [
       "31152    0\n",
       "33499    0\n",
       "18594    0\n",
       "97132    0\n",
       "56015    0\n",
       "        ..\n",
       "9372     0\n",
       "93553    0\n",
       "50496    0\n",
       "94735    0\n",
       "83209    0\n",
       "Name: is_attributed, Length: 80000, dtype: int64"
      ]
     },
     "metadata": {},
     "output_type": "display_data"
    }
   ],
   "source": [
    "display(y_train)"
   ]
  },
  {
   "cell_type": "code",
   "execution_count": 41,
   "metadata": {},
   "outputs": [
    {
     "name": "stdout",
     "output_type": "stream",
     "text": [
      "Requirement already satisfied: xgboost in c:\\users\\hasan\\anaconda3\\lib\\site-packages (1.3.3)\n",
      "Requirement already satisfied: scipy in c:\\users\\hasan\\anaconda3\\lib\\site-packages (from xgboost) (1.5.0)\n",
      "Requirement already satisfied: numpy in c:\\users\\hasan\\anaconda3\\lib\\site-packages (from xgboost) (1.18.5)\n",
      "Note: you may need to restart the kernel to use updated packages.\n"
     ]
    }
   ],
   "source": [
    "pip install xgboost"
   ]
  },
  {
   "cell_type": "code",
   "execution_count": 42,
   "metadata": {},
   "outputs": [],
   "source": [
    "from sklearn import datasets\n",
    "import xgboost as xgb\n",
    "from numpy import loadtxt\n",
    "from sklearn.metrics import accuracy_score\n",
    "from xgboost import XGBClassifier\n"
   ]
  },
  {
   "cell_type": "code",
   "execution_count": 43,
   "metadata": {},
   "outputs": [
    {
     "data": {
      "text/plain": [
       "array([311, 312, 313, 310])"
      ]
     },
     "execution_count": 43,
     "metadata": {},
     "output_type": "execute_result"
    }
   ],
   "source": [
    "x_train.day_of_year.unique()"
   ]
  },
  {
   "cell_type": "code",
   "execution_count": 44,
   "metadata": {},
   "outputs": [],
   "source": [
    "#from xgboost import XGBClassifier\n",
    "\n",
    "#xgtrain = xgb.DMatrix(x_train.values,y_train.values)\n",
    "#xgtest = xgb.DMatrix(x_test.values,y_test.values)\n",
    "#model.fit(x_train,y_train,verbose=1)"
   ]
  },
  {
   "cell_type": "code",
   "execution_count": 45,
   "metadata": {
    "scrolled": true
   },
   "outputs": [
    {
     "name": "stdout",
     "output_type": "stream",
     "text": [
      "[19:26:33] WARNING: C:/Users/Administrator/workspace/xgboost-win64_release_1.3.0/src/learner.cc:1061: Starting in XGBoost 1.3.0, the default evaluation metric used with the objective 'binary:logistic' was changed from 'error' to 'logloss'. Explicitly set eval_metric if you'd like to restore the old behavior.\n"
     ]
    },
    {
     "data": {
      "text/plain": [
       "XGBClassifier(base_score=0.5, booster='gbtree', colsample_bylevel=1,\n",
       "              colsample_bynode=1, colsample_bytree=1, gamma=0, gpu_id=-1,\n",
       "              importance_type='gain', interaction_constraints='',\n",
       "              learning_rate=0.300000012, max_delta_step=0, max_depth=6,\n",
       "              min_child_weight=1, missing=nan, monotone_constraints='()',\n",
       "              n_estimators=100, n_jobs=4, num_parallel_tree=1, random_state=0,\n",
       "              reg_alpha=0, reg_lambda=1, scale_pos_weight=1, subsample=1,\n",
       "              tree_method='exact', validate_parameters=1, verbosity=None)"
      ]
     },
     "execution_count": 45,
     "metadata": {},
     "output_type": "execute_result"
    }
   ],
   "source": [
    "model = XGBClassifier()\n",
    "model.fit(x_train,y_train,verbose=1)"
   ]
  },
  {
   "cell_type": "code",
   "execution_count": 82,
   "metadata": {},
   "outputs": [
    {
     "data": {
      "text/plain": [
       "array([[0.9984431 , 0.00155689],\n",
       "       [0.9999356 , 0.00006437],\n",
       "       [0.99991584, 0.00008418],\n",
       "       [0.9984431 , 0.00155689],\n",
       "       [0.99968153, 0.00031844],\n",
       "       [0.9984431 , 0.00155689],\n",
       "       [0.96962315, 0.03037684],\n",
       "       [0.9984431 , 0.00155689],\n",
       "       [0.9984431 , 0.00155689],\n",
       "       [0.9984431 , 0.00155689]], dtype=float32)"
      ]
     },
     "execution_count": 82,
     "metadata": {},
     "output_type": "execute_result"
    }
   ],
   "source": [
    "import numpy as np\n",
    "np.set_printoptions(suppress=True)\n",
    "y_pred = model.predict_proba(x_test)\n",
    "y_pred[:10]"
   ]
  },
  {
   "cell_type": "code",
   "execution_count": null,
   "metadata": {},
   "outputs": [],
   "source": []
  },
  {
   "cell_type": "markdown",
   "metadata": {},
   "source": [
    "7)"
   ]
  },
  {
   "cell_type": "code",
   "execution_count": 47,
   "metadata": {},
   "outputs": [],
   "source": [
    "from sklearn.metrics import roc_curve\n",
    "from sklearn.metrics import roc_auc_score\n",
    "from sklearn.datasets import make_classification"
   ]
  },
  {
   "cell_type": "code",
   "execution_count": 48,
   "metadata": {},
   "outputs": [
    {
     "name": "stdout",
     "output_type": "stream",
     "text": [
      "Requirement already satisfied: scikit-plot in c:\\users\\hasan\\anaconda3\\lib\\site-packages (0.3.7)\n",
      "Requirement already satisfied: scikit-learn>=0.18 in c:\\users\\hasan\\anaconda3\\lib\\site-packages (from scikit-plot) (0.23.1)\n",
      "Requirement already satisfied: matplotlib>=1.4.0 in c:\\users\\hasan\\anaconda3\\lib\\site-packages (from scikit-plot) (3.2.2)\n",
      "Requirement already satisfied: scipy>=0.9 in c:\\users\\hasan\\anaconda3\\lib\\site-packages (from scikit-plot) (1.5.0)\n",
      "Requirement already satisfied: joblib>=0.10 in c:\\users\\hasan\\anaconda3\\lib\\site-packages (from scikit-plot) (0.16.0)\n",
      "Requirement already satisfied: threadpoolctl>=2.0.0 in c:\\users\\hasan\\anaconda3\\lib\\site-packages (from scikit-learn>=0.18->scikit-plot) (2.1.0)\n",
      "Requirement already satisfied: numpy>=1.13.3 in c:\\users\\hasan\\anaconda3\\lib\\site-packages (from scikit-learn>=0.18->scikit-plot) (1.18.5)\n",
      "Requirement already satisfied: kiwisolver>=1.0.1 in c:\\users\\hasan\\anaconda3\\lib\\site-packages (from matplotlib>=1.4.0->scikit-plot) (1.2.0)\n",
      "Requirement already satisfied: python-dateutil>=2.1 in c:\\users\\hasan\\anaconda3\\lib\\site-packages (from matplotlib>=1.4.0->scikit-plot) (2.8.1)\n",
      "Requirement already satisfied: cycler>=0.10 in c:\\users\\hasan\\anaconda3\\lib\\site-packages (from matplotlib>=1.4.0->scikit-plot) (0.10.0)\n",
      "Requirement already satisfied: pyparsing!=2.0.4,!=2.1.2,!=2.1.6,>=2.0.1 in c:\\users\\hasan\\anaconda3\\lib\\site-packages (from matplotlib>=1.4.0->scikit-plot) (2.4.7)\n",
      "Requirement already satisfied: six>=1.5 in c:\\users\\hasan\\anaconda3\\lib\\site-packages (from python-dateutil>=2.1->matplotlib>=1.4.0->scikit-plot) (1.15.0)\n",
      "Note: you may need to restart the kernel to use updated packages.\n"
     ]
    }
   ],
   "source": [
    "pip install scikit-plot"
   ]
  },
  {
   "cell_type": "code",
   "execution_count": 49,
   "metadata": {},
   "outputs": [
    {
     "data": {
      "image/png": "[encoded data removed]",
      "text/plain": [
       "<Figure size 432x288 with 1 Axes>"
      ]
     },
     "metadata": {
      "needs_background": "light"
     },
     "output_type": "display_data"
    }
   ],
   "source": [
    "import scikitplot as skplt\n",
    "import matplotlib.pyplot as plt\n",
    "from sklearn.metrics import confusion_matrix\n",
    "import numpy as np\n",
    "skplt.metrics.plot_roc_curve(y_test, y_pred)\n",
    "plt.show()\n",
    "\n"
   ]
  },
  {
   "cell_type": "code",
   "execution_count": 50,
   "metadata": {},
   "outputs": [
    {
     "name": "stdout",
     "output_type": "stream",
     "text": [
      "0.9826764755375547\n"
     ]
    }
   ],
   "source": [
    "from sklearn.metrics import roc_auc_score\n",
    "auc_score1 = roc_auc_score(y_test, y_pred[:,1])\n",
    "print(auc_score1)"
   ]
  },
  {
   "cell_type": "markdown",
   "metadata": {},
   "source": [
    "8."
   ]
  },
  {
   "cell_type": "code",
   "execution_count": 51,
   "metadata": {},
   "outputs": [
    {
     "name": "stdout",
     "output_type": "stream",
     "text": [
      "1.3.3\n"
     ]
    }
   ],
   "source": [
    "import xgboost\n",
    "print(xgboost.__version__)"
   ]
  },
  {
   "cell_type": "code",
   "execution_count": 53,
   "metadata": {},
   "outputs": [
    {
     "name": "stdout",
     "output_type": "stream",
     "text": [
      "[19:26:55] WARNING: C:/Users/Administrator/workspace/xgboost-win64_release_1.3.0/src/learner.cc:1061: Starting in XGBoost 1.3.0, the default evaluation metric used with the objective 'binary:logistic' was changed from 'error' to 'logloss'. Explicitly set eval_metric if you'd like to restore the old behavior.\n",
      "Feature: 0, Score: 0.05043\n",
      "Feature: 1, Score: 0.06014\n",
      "Feature: 2, Score: 0.11564\n",
      "Feature: 3, Score: 0.00800\n",
      "Feature: 4, Score: 0.46212\n",
      "Feature: 5, Score: 0.17476\n",
      "Feature: 6, Score: 0.09018\n",
      "Feature: 7, Score: 0.03873\n"
     ]
    },
    {
     "data": {
      "image/png": "[encoded data removed]",
      "text/plain": [
       "<Figure size 432x288 with 1 Axes>"
      ]
     },
     "metadata": {
      "needs_background": "light"
     },
     "output_type": "display_data"
    }
   ],
   "source": [
    "from sklearn.datasets import make_classification\n",
    "from xgboost import XGBClassifier\n",
    "from matplotlib import pyplot\n",
    "x,y = make_classification(n_samples=80000,n_features=8,n_informative=5,random_state=10)\n",
    "model = XGBClassifier()\n",
    "model.fit(x,y)\n",
    "importance = model.feature_importances_\n",
    "for i,v in enumerate(importance):\n",
    "    print('Feature: %0d, Score: %.5f' % (i,v))\n",
    "pyplot.bar([x for x in range(len(importance))], importance)\n",
    "pyplot.show()"
   ]
  },
  {
   "cell_type": "code",
   "execution_count": 72,
   "metadata": {},
   "outputs": [
    {
     "data": {
      "image/png": "[encoded data removed]",
      "text/plain": [
       "<Figure size 432x288 with 1 Axes>"
      ]
     },
     "metadata": {
      "needs_background": "light"
     },
     "output_type": "display_data"
    }
   ],
   "source": [
    "from sklearn.linear_model import LogisticRegression\n",
    "from sklearn.ensemble import BaggingClassifier\n",
    "from sklearn.datasets import make_classification\n",
    "x,y = make_classification(n_samples=10000, n_features=7, n_informative=2,n_redundant=0,random_state=10,shuffle=True)\n",
    "clf = BaggingClassifier(base_estimator=LogisticRegression(),n_estimators=5,random_state=42).fit(x,y)\n",
    "y_pred_clf = model.predict_proba(x_test)\n",
    "clf.predict([[0,0,0,0,0,0,0]])\n",
    "skplt.metrics.plot_roc_curve(y_test, y_pred_bc)\n",
    "plt.show()\n"
   ]
  },
  {
   "cell_type": "code",
   "execution_count": 71,
   "metadata": {},
   "outputs": [
    {
     "data": {
      "text/plain": [
       "array([[0.9984431 , 0.00155689],\n",
       "       [0.9999356 , 0.00006437],\n",
       "       [0.99991584, 0.00008418],\n",
       "       [0.9984431 , 0.00155689],\n",
       "       [0.99968153, 0.00031844],\n",
       "       [0.9984431 , 0.00155689],\n",
       "       [0.96962315, 0.03037684],\n",
       "       [0.9984431 , 0.00155689],\n",
       "       [0.9984431 , 0.00155689],\n",
       "       [0.9984431 , 0.00155689]], dtype=float32)"
      ]
     },
     "execution_count": 71,
     "metadata": {},
     "output_type": "execute_result"
    }
   ],
   "source": [
    "y_pred_clf[:10]"
   ]
  },
  {
   "cell_type": "code",
   "execution_count": 73,
   "metadata": {},
   "outputs": [
    {
     "name": "stdout",
     "output_type": "stream",
     "text": [
      "0.6783092414824291\n"
     ]
    }
   ],
   "source": [
    "from sklearn.metrics import roc_auc_score\n",
    "auc_score2 = roc_auc_score(y_test, y_pred_clf[:,1])\n",
    "print(auc_score2)"
   ]
  },
  {
   "cell_type": "markdown",
   "metadata": {},
   "source": [
    "10"
   ]
  },
  {
   "cell_type": "markdown",
   "metadata": {},
   "source": [
    "I would choose the XGB classifer over the Bagging classifier. The reason is due to a higher auc - roc score which is seen for XGB classifier. The auc - score turned out to be 0.98 in comparison to bagging classifier's 0.67."
   ]
  },
  {
   "cell_type": "markdown",
   "metadata": {},
   "source": [
    "11"
   ]
  },
  {
   "cell_type": "code",
   "execution_count": 74,
   "metadata": {},
   "outputs": [
    {
     "name": "stdout",
     "output_type": "stream",
     "text": [
      "the bagging classifier model accuracy is 0.99805\n",
      "the confusion matrix of bagging classifier model is\n",
      "[[19961     0]\n",
      " [   39     0]]\n"
     ]
    }
   ],
   "source": [
    "from sklearn.ensemble import BaggingClassifier\n",
    "bgcl = BaggingClassifier(n_estimators=10,max_samples=7,bootstrap=True)\n",
    "bgcl = bgcl.fit(x_train,y_train)\n",
    "test_pred = bgcl.predict(x_test)\n",
    "bgcl_score= bgcl.score(x_test,y_test)\n",
    "print(\"the bagging classifier model accuracy is {}\".format(bgcl_score))\n",
    "print(\"the confusion matrix of bagging classifier model is\")\n",
    "print(metrics.confusion_matrix(y_test,test_pred))"
   ]
  },
  {
   "cell_type": "code",
   "execution_count": 75,
   "metadata": {},
   "outputs": [
    {
     "name": "stdout",
     "output_type": "stream",
     "text": [
      "the gradient boost classifier model accuracy is 0.9977\n",
      "the confusion matrix of gradient boost classifier model is\n",
      "[[19952     9]\n",
      " [   37     2]]\n"
     ]
    }
   ],
   "source": [
    "from sklearn.ensemble import GradientBoostingClassifier\n",
    "gbcl = GradientBoostingClassifier(n_estimators=50,learning_rate=0.05)\n",
    "gbcl = gbcl.fit(x_train,y_train)\n",
    "test_pred = gbcl.predict(x_test)\n",
    "gbcl_score=gbcl.score(x_test,y_test)\n",
    "print(\"the gradient boost classifier model accuracy is {}\".format(gbcl_score))\n",
    "print(\"the confusion matrix of gradient boost classifier model is\")\n",
    "print(metrics.confusion_matrix(y_test,test_pred))"
   ]
  },
  {
   "cell_type": "code",
   "execution_count": 76,
   "metadata": {},
   "outputs": [
    {
     "name": "stdout",
     "output_type": "stream",
     "text": [
      "the bagging classifier model accuracy is 0.99805\n",
      "the gradient boost classifier model accuracy is 0.9977\n"
     ]
    }
   ],
   "source": [
    "print('the bagging classifier model accuracy is {}'.format(bgcl_score))\n",
    "print('the gradient boost classifier model accuracy is {}'.format(gbcl_score))"
   ]
  },
  {
   "cell_type": "code",
   "execution_count": null,
   "metadata": {},
   "outputs": [],
   "source": []
  }
 ],
 "metadata": {
  "kernelspec": {
   "display_name": "Python 3",
   "language": "python",
   "name": "python3"
  },
  "language_info": {
   "codemirror_mode": {
    "name": "ipython",
    "version": 3
   },
   "file_extension": ".py",
   "mimetype": "text/x-python",
   "name": "python",
   "nbconvert_exporter": "python",
   "pygments_lexer": "ipython3",
   "version": "3.8.3"
  }
 },
 "nbformat": 4,
 "nbformat_minor": 4
}
